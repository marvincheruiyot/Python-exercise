{
 "cells": [
  {
   "cell_type": "markdown",
   "id": "5f271203",
   "metadata": {},
   "source": [
    "1.Write a program that asks the user for a number of days. The program then \n",
    "prints out the number of seconds in the amount of days given. \n"
   ]
  },
  {
   "cell_type": "code",
   "execution_count": 3,
   "id": "d366761d",
   "metadata": {},
   "outputs": [
    {
     "name": "stdout",
     "output_type": "stream",
     "text": [
      "There are 604800 seconds in 7 days\n"
     ]
    }
   ],
   "source": [
    "#asks the user to input the  number of days\n",
    "days = int(input(\"Enter the no of days: \"))\n",
    "\n",
    "# one day is 24 hours and one hour is 60 mins and one minute is 60 seconds\n",
    "seconds = days * 24 * 60 * 60\n",
    "\n",
    "#print out the number of seconds in the amount of days you are entering\n",
    "print(f\"There are {seconds} seconds in {days} days\")\n",
    "\n"
   ]
  },
  {
   "cell_type": "markdown",
   "id": "b5300007",
   "metadata": {},
   "source": [
    "2.Write a program that asks a user to input the radius then the program \n",
    "calculates the volume of a sphere (the formula for the volume is (4/3)πr3). \n",
    "Use the exponential operator in python to compute (r3). "
   ]
  },
  {
   "cell_type": "code",
   "execution_count": null,
   "id": "85c51bd5",
   "metadata": {},
   "outputs": [
    {
     "name": "stdout",
     "output_type": "stream",
     "text": [
      "The volume of the sphere 7.0 is 1436.9413333333332\n"
     ]
    }
   ],
   "source": [
    "#Ask a user to input the radius\n",
    "radius = float(input(\"Enter the radius of the sphere: \"))\n",
    "\n",
    "#take pie to be 3.142 or 22/7 and apply the volume\n",
    "pie = 3.142 or 22/7\n",
    "volume = (4/3) * pie * (radius ** 3)\n",
    "\n",
    "#Printing the result\n",
    "print(f\"The volume of the sphere {radius} is {volume}\")\n"
   ]
  },
  {
   "cell_type": "markdown",
   "id": "486f6769",
   "metadata": {},
   "source": [
    " 3.Using functions, write a program to compute the area and perimeter of a \n",
    "square. The program should ask the user to enter a number corresponding to \n",
    "the side length of the square and display the area and perimeter of the \n",
    "square."
   ]
  },
  {
   "cell_type": "code",
   "execution_count": 6,
   "id": "fe1cca85",
   "metadata": {},
   "outputs": [
    {
     "name": "stdout",
     "output_type": "stream",
     "text": [
      "The area of a square is: 100.0\n",
      "The perimeter of the square is: 40.0\n"
     ]
    }
   ],
   "source": [
    "#Defining functions\n",
    "def find_area(length):\n",
    "    return length * length\n",
    "\n",
    "def find_perimeter(lenght):\n",
    "    return 4 * lenght\n",
    "\n",
    "#asking user to input the lenght of a square\n",
    "length = float(input(\"Enter the length of the square: \"))\n",
    "\n",
    "#Printing the result\n",
    "print(f\"The area of a square is: {find_area(length)}\")\n",
    "print(f\"The perimeter of the square is: {find_perimeter(length)}\")\n",
    "\n"
   ]
  },
  {
   "cell_type": "markdown",
   "id": "4b7ef945",
   "metadata": {},
   "source": [
    "4.Write a program using functions that determines whether a character input \n",
    "by a user is uppercase or lower case."
   ]
  },
  {
   "cell_type": "code",
   "execution_count": null,
   "id": "90c04d80",
   "metadata": {},
   "outputs": [
    {
     "ename": "IndentationError",
     "evalue": "unexpected indent (1760353756.py, line 17)",
     "output_type": "error",
     "traceback": [
      "  \u001b[36mCell\u001b[39m\u001b[36m \u001b[39m\u001b[32mIn[11]\u001b[39m\u001b[32m, line 17\u001b[39m\n\u001b[31m    \u001b[39m\u001b[31mprint(f\"The char '{chaacterr}' is {result}\")\u001b[39m\n    ^\n\u001b[31mIndentationError\u001b[39m\u001b[31m:\u001b[39m unexpected indent\n"
     ]
    }
   ],
   "source": [
    "#defining functions\n",
    "def check_case(character):\n",
    "   \n",
    "    if char.isupper():   \n",
    "        return \"uppercase\"\n",
    "    elif char.islower():\n",
    "        return \"lowercase\"\n",
    "    else:\n",
    "        return \"not a letter, please enter a letter!\"   \n",
    "    \n",
    "    #asking useer tu input a character to check if it is a uppercase or lowercase\n",
    "\n",
    "    character = input(\"Enter a  character: \")\n",
    "\n",
    "#printing the check\n",
    "if len(character) == 1:\n",
    "  \n",
    "result = check_case(character)\n",
    "   print(f\"The character {character} is {result}\")\n",
    "\n",
    "\n"
   ]
  }
 ],
 "metadata": {
  "kernelspec": {
   "display_name": "Python 3",
   "language": "python",
   "name": "python3"
  },
  "language_info": {
   "codemirror_mode": {
    "name": "ipython",
    "version": 3
   },
   "file_extension": ".py",
   "mimetype": "text/x-python",
   "name": "python",
   "nbconvert_exporter": "python",
   "pygments_lexer": "ipython3",
   "version": "3.13.7"
  }
 },
 "nbformat": 4,
 "nbformat_minor": 5
}
